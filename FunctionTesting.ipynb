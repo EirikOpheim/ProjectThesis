{
 "cells": [
  {
   "cell_type": "code",
   "execution_count": 1,
   "metadata": {},
   "outputs": [],
   "source": [
    "#Standard Libraries and pyxem + hyperspy\n",
    "%matplotlib qt\n",
    "import numpy as np\n",
    "import math\n",
    "import hyperspy.api as hs\n",
    "import pyxem as pxm\n",
    "import diffpy.structure\n",
    "from matplotlib import pyplot as plt\n",
    "\n",
    "#Pyxem sub-libraries\n",
    "from diffsims.generators.structure_library_generator import StructureLibraryGenerator\n",
    "from diffsims.libraries.structure_library import StructureLibrary\n",
    "from diffsims.generators.diffraction_generator import DiffractionGenerator\n",
    "from diffsims.generators.library_generator import DiffractionLibraryGenerator, VectorLibraryGenerator\n",
    "from pyxem.generators.indexation_generator import IndexationGenerator\n",
    "from pyxem.generators.indexation_generator import VectorIndexationGenerator\n",
    "from pyxem.utils.sim_utils import sim_as_signal\n",
    "from pyxem.utils.indexation_utils import peaks_from_best_template\n",
    "from pyxem.utils.plot import generate_marker_inputs_from_peaks\n",
    "\n",
    "#For testing pyxem functions in-dept:\n",
    "from transforms3d.euler import euler2quat, quat2axangle, euler2axangle\n",
    "from pyxem.signals import transfer_navigation_axes_to_signal_axes\n",
    "from diffsims.utils.vector_utils import get_angle_cartesian\n",
    "\n",
    "#For generating the correct implementation of the get_orientations_from_stereographic_triangle() function:\n",
    "from itertools import product\n",
    "from transforms3d.euler import axangle2euler\n",
    "from scipy.spatial.transform import Rotation as R\n",
    "\n",
    "#For plotting\n",
    "from orix.quaternion.orientation import Orientation, Misorientation\n",
    "from orix.quaternion.symmetry import O#,C1, D6h,Oh\n",
    "from orix.quaternion.orientation_region import OrientationRegion\n",
    "from orix import plot"
   ]
  },
  {
   "cell_type": "markdown",
   "metadata": {},
   "source": [
    "Defining the function to create candidate orientations and replace get_orientations_from_stereographic_triangle()"
   ]
  },
  {
   "cell_type": "code",
   "execution_count": null,
   "metadata": {},
   "outputs": [],
   "source": [
    "def create_linearly_spaced_array_in_rzxz(resolution):\n",
    "    \"\"\"\n",
    "    If covering whole domain we would use angular ranges alpha [0,360], beta [0,180] and gamma [0,360] in\n",
    "    line with Convention 4 described in Reference [1]. For space group 215 we have a 4 fold axis parrallel\n",
    "    to z, so we can drop the alpha and gamma ranges to 90, saving a bit of time\n",
    "    \n",
    "    \n",
    "    References\n",
    "    ----------\n",
    "    [1]  D Rowenhorst et al 2015 Modelling Simul. Mater. Sci. Eng.23 083501\n",
    "         https://iopscience.iop.org/article/10.1088/0965-0393/23/8/083501/meta\n",
    "    \"\"\"\n",
    "    #Can invert to save time, and use 0,360 for alpha.\n",
    "    num_steps = int(180/resolution + 0.5)\n",
    "    alpha = np.linspace(0,360,num=int(num_steps*2),endpoint=False)\n",
    "    beta  = np.linspace(0,180,num=int(num_steps),endpoint=False)\n",
    "    gamma = np.linspace(0,90,num=int(num_steps/2),endpoint=False)\n",
    "    z = np.asarray(list(product(alpha, beta, gamma)))\n",
    "    good_eggs = []\n",
    "    for i in range(z.shape[0]):\n",
    "        if(z[1] is 0):\n",
    "            if(z[2] is 0):\n",
    "                good_eggs.append(i)\n",
    "        else:\n",
    "            good_eggs.append(i)\n",
    "               \n",
    "    return z[good_eggs,:]\n",
    "\n",
    "\n",
    "def convert_axangle_to_correct_range(vector,angle): \n",
    "    if (angle >= 0) and (angle < np.pi): #input in the desired convention\n",
    "        pass\n",
    "    elif (angle >= -np.pi) and (angle < 0):\n",
    "        vector = np.multiply(vector,-1)\n",
    "        angle  = angle * -1\n",
    "    elif (angle >= np.pi) and (angle < 2*np.pi):\n",
    "        vector = np.multiply(vector,-1)\n",
    "        angle = 2*np.pi - angle\n",
    "    else:\n",
    "        raise ValueError(\"You have an axis-angle angle outside of acceptable ranges\")\n",
    "\n",
    "    return vector,angle\n",
    "\n",
    "\n",
    "def convert_rzxz_array_to_axangle(z):\n",
    "    stored_axangle = np.ones((z.shape[0],4))\n",
    "    z = np.deg2rad(z) #for the transform operation\n",
    "    for i,row in enumerate(z):\n",
    "        temp_vect, temp_angle = euler2axangle(row[0],row[1],row[2],'rzxz')\n",
    "        temp_vect,temp_angle  = convert_axangle_to_correct_range(temp_vect,temp_angle)\n",
    "        for j in [0,1,2]:\n",
    "            stored_axangle[i,j] = temp_vect[j]\n",
    "            stored_axangle[i,3] = temp_angle #in radians!\n",
    "\n",
    "    return stored_axangle\n",
    "\n",
    "\n",
    "def convert_axangle_to_euler(z):\n",
    "    stored_euler = np.ones((z.shape[0],3))\n",
    "    for i,row in enumerate(z):\n",
    "        a_array = axangle2euler(row[:3],row[3],'rzxz')\n",
    "        for j in [0,1,2]:\n",
    "            stored_euler[i,j] = a_array[j]\n",
    "\n",
    "    stored_euler = np.rad2deg(stored_euler)\n",
    "    return stored_euler\n",
    "\n",
    "def get_orientations_from_stereographic_triangle_new(resolution):\n",
    "    #Create lineary spaced function in cubic symmetry domain\n",
    "    rzxz_array = create_linearly_spaced_array_in_rzxz(resolution)\n",
    "    \n",
    "    #Convert to axangle.\n",
    "    axangle_array = convert_rzxz_array_to_axangle(rzxz_array)\n",
    "    \n",
    "    axangle_array = axangle_array[axangle_array[:,3] < np.deg2rad(62.8)]\n",
    "    rf_array = axangle_array.copy()\n",
    "    rf_array[:,3] = np.tan(np.divide(rf_array[:,3],2))\n",
    "    tanangle = rf_array[:,3]\n",
    "    rf_array[:,:3] = np.multiply(rf_array[:,:3],tanangle.reshape(rf_array.shape[0],1))\n",
    "    \n",
    "    for normal_vector in [[1,1,1],[1,1,-1],[1,-1,-1],[1,-1,1],[-1,-1,-1],[-1,-1,1],[-1,1,1],[-1,1,-1]]:\n",
    "        temporary_truth = np.abs(np.dot(rf_array[:,:3],np.divide(normal_vector,np.sqrt(3)))) < np.sqrt(1/3)#np.sqrt(1/3) \n",
    "        rf_array = rf_array[temporary_truth]\n",
    "        axangle_array = axangle_array[temporary_truth] #saves us some conversion later on\n",
    "        \n",
    "    final_euler_array = convert_axangle_to_euler(axangle_array)\n",
    "    rot_list = []\n",
    "    for row in final_euler_array:\n",
    "        rot_list.append((row[0],row[1],row[2]))\n",
    "        \n",
    "    return rot_list"
   ]
  },
  {
   "cell_type": "markdown",
   "metadata": {},
   "source": [
    "Define a gold structure, could also be done using a .cif file."
   ]
  },
  {
   "cell_type": "code",
   "execution_count": 2,
   "metadata": {},
   "outputs": [],
   "source": [
    "latt = diffpy.structure.lattice.Lattice(4.08, 4.08, 4.08, 90, 90, 90)\n",
    "atom = diffpy.structure.atom.Atom(atype='Au', xyz=[0,0,0], lattice=latt)\n",
    "atom2 = diffpy.structure.atom.Atom(atype='Au', xyz=[0,1/2,1/2], lattice=latt)\n",
    "atom3 = diffpy.structure.atom.Atom(atype='Au', xyz=[1/2,0,1/2], lattice=latt)\n",
    "atom4 = diffpy.structure.atom.Atom(atype='Au', xyz=[1/2,1/2,0], lattice=latt)\n",
    "au = diffpy.structure.Structure(atoms=[atom,atom2,atom3,atom4], lattice=latt)"
   ]
  },
  {
   "cell_type": "markdown",
   "metadata": {},
   "source": [
    "Define simulation parameters."
   ]
  },
  {
   "cell_type": "code",
   "execution_count": 3,
   "metadata": {},
   "outputs": [],
   "source": [
    "pattern_size = 256  # pixels\n",
    "half_pattern_size = pattern_size // 2\n",
    "reciprocal_radius = 4 #How far out in reciprocal space we look for reflections\n",
    "calibration = reciprocal_radius / half_pattern_size #Scaling of diffraction pattern\n",
    "beam_energy = 300.0 #keV\n",
    "\n",
    "ediff = DiffractionGenerator(beam_energy, 0.025)  # keV and relrod length (1/Å)"
   ]
  },
  {
   "cell_type": "markdown",
   "metadata": {},
   "source": [
    "Simulate gold diffraction patterns in a set of orientations"
   ]
  },
  {
   "cell_type": "code",
   "execution_count": 4,
   "metadata": {
    "scrolled": true
   },
   "outputs": [
    {
     "name": "stderr",
     "output_type": "stream",
     "text": [
      "                                                 \r"
     ]
    }
   ],
   "source": [
    "phase_name = ['Au'] \n",
    "Angles = [] #Not the ones flying in the sky\n",
    "discreteAngleValues = np.linspace(-60.,60.,25)\n",
    "lengthOfAnglesVek = len(discreteAngleValues)\n",
    "for i in range (lengthOfAnglesVek):#(int(lengthOfAnglesVek/2)+1):\n",
    "    for j in range (lengthOfAnglesVek):\n",
    "        Angles.append((float(discreteAngleValues[j]),float(discreteAngleValues[i]),float(0)))\n",
    "\n",
    "sample_lib = StructureLibrary(phase_name, [au], [Angles])\n",
    "\n",
    "diff_gen = DiffractionLibraryGenerator(ediff)\n",
    "library = diff_gen.get_diffraction_library(sample_lib,\n",
    "                                           calibration=calibration,\n",
    "                                           reciprocal_radius=reciprocal_radius,\n",
    "                                           half_shape=(half_pattern_size, half_pattern_size),\n",
    "                                           with_direct_beam=False)\n",
    "\n",
    "data_au = []\n",
    "\n",
    "for angles in Angles:\n",
    "    pattern = sim_as_signal(library.get_library_entry(phase='Au', angle=(angles))['Sim'],\n",
    "                            pattern_size, 0.05, reciprocal_radius)\n",
    "                            \n",
    "    data_au.append(pattern)\n",
    "        \n",
    "data = [x.data for x in data_au] \n",
    "\n",
    "test_data = pxm.ElectronDiffraction2D(np.asarray(data).reshape(lengthOfAnglesVek,lengthOfAnglesVek, pattern_size, pattern_size))\n",
    "test_data.set_diffraction_calibration(calibration) "
   ]
  },
  {
   "cell_type": "markdown",
   "metadata": {},
   "source": [
    "Generate a library, either by the use of an orientation list, or by the use of the stereographic triangle function"
   ]
  },
  {
   "cell_type": "code",
   "execution_count": 5,
   "metadata": {},
   "outputs": [],
   "source": [
    "structure_library_generator = StructureLibraryGenerator(\n",
    "    [('Au', au, 'cubic')])"
   ]
  },
  {
   "cell_type": "code",
   "execution_count": null,
   "metadata": {},
   "outputs": [],
   "source": [
    "orientation_list = get_orientations_from_stereographic_triangle_new(1.4)\n",
    "structure_library = structure_library_generator.get_orientations_from_list([orientation_list])"
   ]
  },
  {
   "cell_type": "code",
   "execution_count": null,
   "metadata": {},
   "outputs": [],
   "source": [
    "structure_library = structure_library_generator.get_orientations_from_stereographic_triangle([[0,]],1)"
   ]
  },
  {
   "cell_type": "code",
   "execution_count": 6,
   "metadata": {},
   "outputs": [],
   "source": [
    "structure_library = structure_library_generator.get_orientations_from_list([Angles])"
   ]
  },
  {
   "cell_type": "markdown",
   "metadata": {},
   "source": [
    "Simulate diffraction patterns and store in a template library"
   ]
  },
  {
   "cell_type": "code",
   "execution_count": 7,
   "metadata": {},
   "outputs": [
    {
     "name": "stderr",
     "output_type": "stream",
     "text": [
      "                                                 \r"
     ]
    }
   ],
   "source": [
    "diff_gen = DiffractionLibraryGenerator(ediff)\n",
    "template_library = diff_gen.get_diffraction_library(structure_library,\n",
    "                                                    calibration=calibration,\n",
    "                                                    reciprocal_radius=reciprocal_radius,\n",
    "                                                    half_shape=(half_pattern_size, half_pattern_size),\n",
    "                                                    with_direct_beam=False)"
   ]
  },
  {
   "cell_type": "markdown",
   "metadata": {},
   "source": [
    "Find best matching template for every pixel of the simulated data"
   ]
  },
  {
   "cell_type": "code",
   "execution_count": 8,
   "metadata": {},
   "outputs": [
    {
     "data": {
      "application/vnd.jupyter.widget-view+json": {
       "model_id": "8c0ca9099555400c8c0a28984899f120",
       "version_major": 2,
       "version_minor": 0
      },
      "text/plain": [
       "HBox(children=(IntProgress(value=0, max=625), HTML(value='')))"
      ]
     },
     "metadata": {},
     "output_type": "display_data"
    }
   ],
   "source": [
    "indexer = IndexationGenerator(test_data, template_library)\n",
    "match_results = indexer.correlate(n_largest=3)"
   ]
  },
  {
   "cell_type": "markdown",
   "metadata": {},
   "source": [
    "Plot best matching template on top of the experimental diffraction pattern"
   ]
  },
  {
   "cell_type": "code",
   "execution_count": null,
   "metadata": {},
   "outputs": [],
   "source": [
    "match_results.plot_best_matching_results_on_signal(test_data, template_library, permanent_markers=False, cmap='magma_r')"
   ]
  },
  {
   "cell_type": "markdown",
   "metadata": {},
   "source": [
    "Built in method for generating an orientation map"
   ]
  },
  {
   "cell_type": "code",
   "execution_count": 9,
   "metadata": {
    "scrolled": true
   },
   "outputs": [
    {
     "data": {
      "application/vnd.jupyter.widget-view+json": {
       "model_id": "6113197c420c44d1abd6c3e24df1ac5d",
       "version_major": 2,
       "version_minor": 0
      },
      "text/plain": [
       "HBox(children=(IntProgress(value=0, max=625), HTML(value='')))"
      ]
     },
     "metadata": {},
     "output_type": "display_data"
    },
    {
     "name": "stderr",
     "output_type": "stream",
     "text": [
      "WARNING:hyperspy.signal:The function you applied does not take into account the difference of units and of scales in-between axes.\n"
     ]
    },
    {
     "data": {
      "application/vnd.jupyter.widget-view+json": {
       "model_id": "c80697a7c7ce41628d5f01a039b1825c",
       "version_major": 2,
       "version_minor": 0
      },
      "text/plain": [
       "HBox(children=(IntProgress(value=0, max=625), HTML(value='')))"
      ]
     },
     "metadata": {},
     "output_type": "display_data"
    }
   ],
   "source": [
    "cryst_map = match_results.get_crystallographic_map()\n",
    "ori_map = cryst_map.get_orientation_map()\n",
    "ori_map.plot(cmap='inferno',axes_off = True,scalebar = False)"
   ]
  },
  {
   "cell_type": "markdown",
   "metadata": {},
   "source": [
    "Plot a template from the template library. "
   ]
  },
  {
   "cell_type": "code",
   "execution_count": null,
   "metadata": {},
   "outputs": [],
   "source": [
    "library_entries = template_library.get_library_entry(phase = 'Au', angle = (-60,-60,0))#(100,140,0)\n",
    "\n",
    "intensities = library_entries['intensities']\n",
    "Coordinates = library_entries['pixel_coords']\n",
    "\n",
    "PlotOfIntensities = np.zeros((pattern_size,pattern_size))\n",
    "for i in range (len(intensities)):\n",
    "    if(Coordinates[i,0]>0 and Coordinates[i,0] < pattern_size and Coordinates[i,1]>0 and Coordinates[i,1] < pattern_size ):\n",
    "        PlotOfIntensities[Coordinates[i,1],Coordinates[i,0]]=1\n",
    "    \n",
    "fig, axs = plt.subplots(1, 1, figsize=(6, 6))\n",
    "axs.imshow(PlotOfIntensities, cmap = 'inferno')\n",
    "axs.set_title('Euler Angle: ({0:.0f},{1:.0f},{2:.0f})'.format(-60,-60,0))"
   ]
  },
  {
   "cell_type": "markdown",
   "metadata": {},
   "source": [
    "Plot Correlation scores"
   ]
  },
  {
   "cell_type": "code",
   "execution_count": null,
   "metadata": {},
   "outputs": [],
   "source": [
    "correlation_score_array = np.zeros((25,25))\n",
    "for i in range (match_results.data[:,:,0,2].shape[0]):\n",
    "    for j in range (match_results.data[:,:,0,2].shape[1]):\n",
    "        correlation_score_array[i,j] = float(match_results.data[i,j,0,2])\n",
    "\n",
    "fig, (ax1) = plt.subplots(1, 1, figsize=(15, 6))\n",
    "im =  ax1.imshow(correlation_score_array,cmap = 'inferno',vmin = 0)\n",
    "ax1.set_title('Correlation score')\n",
    "ax1.set_xticks(ticks = np.linspace(0,24,num = 7))\n",
    "ax1.set_xticklabels(np.linspace(-60,60,7))\n",
    "ax1.set_yticks(ticks = np.linspace(0,24,num = 7))\n",
    "ax1.set_yticklabels(np.linspace(-60,60,7))\n",
    "ax1.set_xlabel('$\\phi_1$')\n",
    "ax1.set_ylabel('$ \\Theta $')\n",
    "fig.colorbar(im, ax = ax1)\n",
    "plt.show()"
   ]
  },
  {
   "cell_type": "markdown",
   "metadata": {},
   "source": [
    "Generate orientation and misorientation plots."
   ]
  },
  {
   "cell_type": "code",
   "execution_count": null,
   "metadata": {},
   "outputs": [],
   "source": [
    "array = match_results.data[:,:,0,1]\n",
    "b = []\n",
    "list1 = array.tolist()\n",
    "numberInList = list1[0][0][0]\n",
    "for i in range (len(array)):\n",
    "    for j in range ( len(list1[i])):\n",
    "        b.append([list1[i][j][0]+np.finfo(type(numberInList)).eps* 3,list1[i][j][1]+\n",
    "                  np.finfo(type(numberInList)).eps * 3, list1[i][j][2]]+np.finfo(type(numberInList)).eps * 3)\n"
   ]
  },
  {
   "cell_type": "code",
   "execution_count": null,
   "metadata": {},
   "outputs": [],
   "source": [
    "ZeroAngle = []\n",
    "list1 = array.tolist()\n",
    "for i in range (len(list1)):\n",
    "    for j in range ( len(list1[i])):\n",
    "        ZeroAngle.append([0,0,0])"
   ]
  },
  {
   "cell_type": "code",
   "execution_count": null,
   "metadata": {
    "scrolled": true
   },
   "outputs": [],
   "source": [
    "ori = Orientation.from_euler(np.radians(b)).reshape(25,25).set_symmetry(O) #Match Results\n",
    "ori2 = Orientation.from_euler(np.radians((ZeroAngle))).reshape(25,25).set_symmetry(O) #All zeros\n",
    "\n",
    "# Compute misorientations\n",
    "misori_base = Misorientation(~ori[:, :] * ori2[:, :])\n",
    "misori = misori_base.set_symmetry(O, O)\n",
    "a = np.rad2deg(misori.angle.data)\n",
    "\n",
    "\n",
    "ori3 = Orientation.from_euler(np.radians(b)).reshape(25,25).set_symmetry(O) #Match Resullts\n",
    "ori4 = Orientation.from_euler(np.radians((Angles))).reshape(25,25).set_symmetry(O) #List of orientations in the simulated diffraction patterns, not template library\n",
    "\n",
    "# Compute misorientations\n",
    "misori_base2 = Misorientation(~ori3[:, :] * ori4[:, :])\n",
    "misori2 = misori_base2.set_symmetry(O, O)\n",
    "\n",
    "#Convert to degrees\n",
    "c = np.rad2deg(misori2.angle.data)\n",
    "\n",
    "#Plot orientation map and misorientation map\n",
    "fig, [ax1,ax2] = plt.subplots(1, 2, figsize=(15, 6))\n",
    "mappable= ax1.imshow(a,cmap = 'inferno')\n",
    "ax1.set_title('Distance to (0,0,0)')\n",
    "ax1.set_xticks(ticks = np.linspace(0,24,num = 7))\n",
    "ax1.set_xticklabels(np.linspace(-60,60,7))\n",
    "ax1.set_yticks(ticks = np.linspace(0,24,num = 7))\n",
    "ax1.set_yticklabels(np.linspace(-60,60,7))\n",
    "ax1.set_xlabel('$\\phi_1$')\n",
    "ax1.set_ylabel('$ \\Theta $')\n",
    "mappable2 = ax2.imshow(c,cmap = 'inferno')\n",
    "ax2.set_title('Template matching result, distance to true value')\n",
    "ax2.set_xticks(ticks = np.linspace(0,24,num = 7))\n",
    "ax2.set_xticklabels(np.linspace(-60,60,7))\n",
    "ax2.set_yticks(ticks = np.linspace(0,24,num = 7))\n",
    "ax2.set_yticklabels(np.linspace(-60,60,7))\n",
    "ax2.set_xlabel('$\\phi_1$')\n",
    "ax2.set_ylabel('$ \\Theta $')\n",
    "fig.colorbar(mappable, ax = ax1)\n",
    "fig.colorbar(mappable2, ax = ax2)\n",
    "plt.show()"
   ]
  }
 ],
 "metadata": {
  "kernelspec": {
   "display_name": "Python 3",
   "language": "python",
   "name": "python3"
  },
  "language_info": {
   "codemirror_mode": {
    "name": "ipython",
    "version": 3
   },
   "file_extension": ".py",
   "mimetype": "text/x-python",
   "name": "python",
   "nbconvert_exporter": "python",
   "pygments_lexer": "ipython3",
   "version": "3.7.3"
  }
 },
 "nbformat": 4,
 "nbformat_minor": 2
}
